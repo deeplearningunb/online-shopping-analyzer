{
 "cells": [
  {
   "cell_type": "code",
   "execution_count": 26,
   "metadata": {
    "id": "10OhbibAVvtr"
   },
   "outputs": [],
   "source": [
    "import numpy as np\n",
    "import pandas as pd\n",
    "import tensorflow as tf\n",
    "from sklearn.preprocessing import LabelEncoder"
   ]
  },
  {
   "cell_type": "code",
   "execution_count": 2,
   "metadata": {
    "colab": {
     "base_uri": "https://localhost:8080/",
     "height": 397
    },
    "id": "8hJUkVQOV8AM",
    "outputId": "3746b22f-9879-4cbc-c046-74dba81d6e02"
   },
   "outputs": [
    {
     "data": {
      "text/html": [
       "<div>\n",
       "<style scoped>\n",
       "    .dataframe tbody tr th:only-of-type {\n",
       "        vertical-align: middle;\n",
       "    }\n",
       "\n",
       "    .dataframe tbody tr th {\n",
       "        vertical-align: top;\n",
       "    }\n",
       "\n",
       "    .dataframe thead th {\n",
       "        text-align: right;\n",
       "    }\n",
       "</style>\n",
       "<table border=\"1\" class=\"dataframe\">\n",
       "  <thead>\n",
       "    <tr style=\"text-align: right;\">\n",
       "      <th></th>\n",
       "      <th>Administrative</th>\n",
       "      <th>Administrative_Duration</th>\n",
       "      <th>Informational</th>\n",
       "      <th>Informational_Duration</th>\n",
       "      <th>ProductRelated</th>\n",
       "      <th>ProductRelated_Duration</th>\n",
       "      <th>BounceRates</th>\n",
       "      <th>ExitRates</th>\n",
       "      <th>PageValues</th>\n",
       "      <th>SpecialDay</th>\n",
       "      <th>Month</th>\n",
       "      <th>OperatingSystems</th>\n",
       "      <th>Browser</th>\n",
       "      <th>Region</th>\n",
       "      <th>TrafficType</th>\n",
       "      <th>VisitorType</th>\n",
       "      <th>Weekend</th>\n",
       "      <th>Revenue</th>\n",
       "    </tr>\n",
       "  </thead>\n",
       "  <tbody>\n",
       "    <tr>\n",
       "      <th>0</th>\n",
       "      <td>0.0</td>\n",
       "      <td>0.0</td>\n",
       "      <td>0.0</td>\n",
       "      <td>0.0</td>\n",
       "      <td>1.0</td>\n",
       "      <td>0.000000</td>\n",
       "      <td>0.20</td>\n",
       "      <td>0.20</td>\n",
       "      <td>0.0</td>\n",
       "      <td>0.0</td>\n",
       "      <td>Feb</td>\n",
       "      <td>1</td>\n",
       "      <td>1</td>\n",
       "      <td>1</td>\n",
       "      <td>1</td>\n",
       "      <td>Returning_Visitor</td>\n",
       "      <td>False</td>\n",
       "      <td>False</td>\n",
       "    </tr>\n",
       "    <tr>\n",
       "      <th>1</th>\n",
       "      <td>0.0</td>\n",
       "      <td>0.0</td>\n",
       "      <td>0.0</td>\n",
       "      <td>0.0</td>\n",
       "      <td>2.0</td>\n",
       "      <td>64.000000</td>\n",
       "      <td>0.00</td>\n",
       "      <td>0.10</td>\n",
       "      <td>0.0</td>\n",
       "      <td>0.0</td>\n",
       "      <td>Feb</td>\n",
       "      <td>2</td>\n",
       "      <td>2</td>\n",
       "      <td>1</td>\n",
       "      <td>2</td>\n",
       "      <td>Returning_Visitor</td>\n",
       "      <td>False</td>\n",
       "      <td>False</td>\n",
       "    </tr>\n",
       "    <tr>\n",
       "      <th>2</th>\n",
       "      <td>0.0</td>\n",
       "      <td>-1.0</td>\n",
       "      <td>0.0</td>\n",
       "      <td>-1.0</td>\n",
       "      <td>1.0</td>\n",
       "      <td>-1.000000</td>\n",
       "      <td>0.20</td>\n",
       "      <td>0.20</td>\n",
       "      <td>0.0</td>\n",
       "      <td>0.0</td>\n",
       "      <td>Feb</td>\n",
       "      <td>4</td>\n",
       "      <td>1</td>\n",
       "      <td>9</td>\n",
       "      <td>3</td>\n",
       "      <td>Returning_Visitor</td>\n",
       "      <td>False</td>\n",
       "      <td>False</td>\n",
       "    </tr>\n",
       "    <tr>\n",
       "      <th>3</th>\n",
       "      <td>0.0</td>\n",
       "      <td>0.0</td>\n",
       "      <td>0.0</td>\n",
       "      <td>0.0</td>\n",
       "      <td>2.0</td>\n",
       "      <td>2.666667</td>\n",
       "      <td>0.05</td>\n",
       "      <td>0.14</td>\n",
       "      <td>0.0</td>\n",
       "      <td>0.0</td>\n",
       "      <td>Feb</td>\n",
       "      <td>3</td>\n",
       "      <td>2</td>\n",
       "      <td>2</td>\n",
       "      <td>4</td>\n",
       "      <td>Returning_Visitor</td>\n",
       "      <td>False</td>\n",
       "      <td>False</td>\n",
       "    </tr>\n",
       "    <tr>\n",
       "      <th>4</th>\n",
       "      <td>0.0</td>\n",
       "      <td>0.0</td>\n",
       "      <td>0.0</td>\n",
       "      <td>0.0</td>\n",
       "      <td>10.0</td>\n",
       "      <td>627.500000</td>\n",
       "      <td>0.02</td>\n",
       "      <td>0.05</td>\n",
       "      <td>0.0</td>\n",
       "      <td>0.0</td>\n",
       "      <td>Feb</td>\n",
       "      <td>3</td>\n",
       "      <td>3</td>\n",
       "      <td>1</td>\n",
       "      <td>4</td>\n",
       "      <td>Returning_Visitor</td>\n",
       "      <td>True</td>\n",
       "      <td>False</td>\n",
       "    </tr>\n",
       "  </tbody>\n",
       "</table>\n",
       "</div>"
      ],
      "text/plain": [
       "   Administrative  Administrative_Duration  Informational  \\\n",
       "0             0.0                      0.0            0.0   \n",
       "1             0.0                      0.0            0.0   \n",
       "2             0.0                     -1.0            0.0   \n",
       "3             0.0                      0.0            0.0   \n",
       "4             0.0                      0.0            0.0   \n",
       "\n",
       "   Informational_Duration  ProductRelated  ProductRelated_Duration  \\\n",
       "0                     0.0             1.0                 0.000000   \n",
       "1                     0.0             2.0                64.000000   \n",
       "2                    -1.0             1.0                -1.000000   \n",
       "3                     0.0             2.0                 2.666667   \n",
       "4                     0.0            10.0               627.500000   \n",
       "\n",
       "   BounceRates  ExitRates  PageValues  SpecialDay Month  OperatingSystems  \\\n",
       "0         0.20       0.20         0.0         0.0   Feb                 1   \n",
       "1         0.00       0.10         0.0         0.0   Feb                 2   \n",
       "2         0.20       0.20         0.0         0.0   Feb                 4   \n",
       "3         0.05       0.14         0.0         0.0   Feb                 3   \n",
       "4         0.02       0.05         0.0         0.0   Feb                 3   \n",
       "\n",
       "   Browser  Region  TrafficType        VisitorType  Weekend  Revenue  \n",
       "0        1       1            1  Returning_Visitor    False    False  \n",
       "1        2       1            2  Returning_Visitor    False    False  \n",
       "2        1       9            3  Returning_Visitor    False    False  \n",
       "3        2       2            4  Returning_Visitor    False    False  \n",
       "4        3       1            4  Returning_Visitor     True    False  "
      ]
     },
     "execution_count": 2,
     "metadata": {},
     "output_type": "execute_result"
    }
   ],
   "source": [
    "dataset = pd.read_csv('online_shoppers_intention.csv')\n",
    "dataset.head()"
   ]
  },
  {
   "cell_type": "code",
   "execution_count": 3,
   "metadata": {
    "id": "FO_AdTjd9b9h"
   },
   "outputs": [
    {
     "name": "stdout",
     "output_type": "stream",
     "text": [
      "0        2\n",
      "1        2\n",
      "2        2\n",
      "3        2\n",
      "4        2\n",
      "        ..\n",
      "12325    1\n",
      "12326    7\n",
      "12327    7\n",
      "12328    7\n",
      "12329    7\n",
      "Name: Month, Length: 12316, dtype: int32\n"
     ]
    }
   ],
   "source": [
    "lb = LabelEncoder()\n",
    "dataset['Month'] = lb.fit_transform(dataset['Month'])\n",
    "dataset.dropna(inplace=True)\n",
    "print(dataset['Month'])"
   ]
  },
  {
   "cell_type": "code",
   "execution_count": 4,
   "metadata": {
    "id": "wYHc3-geWeUB"
   },
   "outputs": [],
   "source": [
    "X = dataset.iloc[:, :-1].values\n",
    "y = dataset.iloc[:, -1].values"
   ]
  },
  {
   "cell_type": "code",
   "execution_count": 5,
   "metadata": {
    "id": "kGgL0uxda47-"
   },
   "outputs": [
    {
     "name": "stdout",
     "output_type": "stream",
     "text": [
      "[0 0 0 ... 1 0 1]\n"
     ]
    }
   ],
   "source": [
    "le = LabelEncoder()\n",
    "X[:, 16] = le.fit_transform(X[:, 16])\n",
    "print(X[:,16])"
   ]
  },
  {
   "cell_type": "code",
   "execution_count": 6,
   "metadata": {
    "id": "b7gTvdvCBaC1"
   },
   "outputs": [
    {
     "name": "stdout",
     "output_type": "stream",
     "text": [
      "[0 0 0 ... 0 0 0]\n"
     ]
    }
   ],
   "source": [
    "le = LabelEncoder()\n",
    "y = le.fit_transform(y)\n",
    "print(y)"
   ]
  },
  {
   "cell_type": "code",
   "execution_count": 7,
   "metadata": {
    "id": "TEz-IzDpcOss"
   },
   "outputs": [
    {
     "name": "stdout",
     "output_type": "stream",
     "text": [
      "[1 2 1 ... 2 2 2]\n"
     ]
    }
   ],
   "source": [
    "from sklearn.compose import ColumnTransformer\n",
    "from sklearn.preprocessing import OneHotEncoder\n",
    "ct = ColumnTransformer(transformers=[('encoder', OneHotEncoder(), [15])], remainder='passthrough')\n",
    "X = np.array(ct.fit_transform(X))\n",
    "print(X[:,15])"
   ]
  },
  {
   "cell_type": "code",
   "execution_count": 8,
   "metadata": {
    "id": "YZmR-o6celDJ"
   },
   "outputs": [],
   "source": [
    "from sklearn.model_selection import train_test_split\n",
    "X_train, X_test, y_train, y_test = train_test_split(X, y, test_size = 0.2, random_state = 0)"
   ]
  },
  {
   "cell_type": "code",
   "execution_count": 9,
   "metadata": {
    "id": "hlcdO39IhkMY"
   },
   "outputs": [],
   "source": [
    "from sklearn.preprocessing import StandardScaler\n",
    "sc = StandardScaler()\n",
    "X_train = sc.fit_transform(X_train)\n",
    "X_test = sc.transform(X_test)"
   ]
  },
  {
   "cell_type": "code",
   "execution_count": 10,
   "metadata": {},
   "outputs": [],
   "source": [
    "import keras\n",
    "from keras.models import Sequential #used to initialize the NN\n",
    "from keras.layers import Dense  #used to build the hidden Layers\n",
    "from keras.layers import Dropout"
   ]
  },
  {
   "cell_type": "code",
   "execution_count": 11,
   "metadata": {},
   "outputs": [
    {
     "data": {
      "text/plain": [
       "(9852, 19)"
      ]
     },
     "execution_count": 11,
     "metadata": {},
     "output_type": "execute_result"
    }
   ],
   "source": [
    "np.shape(X_train)"
   ]
  },
  {
   "cell_type": "code",
   "execution_count": 12,
   "metadata": {},
   "outputs": [],
   "source": [
    "#Criando as camadas de ann\n",
    "ann = tf.keras.models.Sequential()"
   ]
  },
  {
   "cell_type": "code",
   "execution_count": 13,
   "metadata": {},
   "outputs": [],
   "source": [
    "ann.add(tf.keras.layers.Dense(units=8, activation='selu'))\n",
    "ann.add(tf.keras.layers.Dense(units=8, activation='selu'))"
   ]
  },
  {
   "cell_type": "code",
   "execution_count": 14,
   "metadata": {},
   "outputs": [],
   "source": [
    "ann.add(tf.keras.layers.Dense(units=8, activation='selu'))\n",
    "ann.add(tf.keras.layers.Dense(units=8, activation='selu'))"
   ]
  },
  {
   "cell_type": "code",
   "execution_count": 15,
   "metadata": {},
   "outputs": [],
   "source": [
    "ann.add(tf.keras.layers.Dense(units=8, activation='selu'))\n",
    "ann.add(tf.keras.layers.Dense(units=8, activation='selu'))"
   ]
  },
  {
   "cell_type": "code",
   "execution_count": 16,
   "metadata": {},
   "outputs": [],
   "source": [
    "ann.add(tf.keras.layers.Dense(units=8, activation='selu'))\n",
    "ann.add(tf.keras.layers.Dense(units=1, activation='sigmoid'))"
   ]
  },
  {
   "cell_type": "code",
   "execution_count": 17,
   "metadata": {},
   "outputs": [],
   "source": [
    "ann.compile(optimizer = 'adamax', loss = 'binary_crossentropy', metrics = ['accuracy'])"
   ]
  },
  {
   "cell_type": "code",
   "execution_count": 18,
   "metadata": {},
   "outputs": [
    {
     "data": {
      "text/plain": [
       "array([[-0.39813772, -0.0833674 ,  0.40969753, ...,  0.76835374,\n",
       "        -0.76362179,  1.80029653],\n",
       "       [ 2.51169372, -0.0833674 , -2.44082509, ..., -0.0605798 ,\n",
       "        -0.01554073, -0.55546405],\n",
       "       [-0.39813772, -0.0833674 ,  0.40969753, ...,  1.18282051,\n",
       "        -0.51426144, -0.55546405],\n",
       "       ...,\n",
       "       [-0.39813772, -0.0833674 ,  0.40969753, ..., -0.88951334,\n",
       "        -0.26490108, -0.55546405],\n",
       "       [ 2.51169372, -0.0833674 , -2.44082509, ..., -0.88951334,\n",
       "        -0.51426144,  1.80029653],\n",
       "       [-0.39813772, -0.0833674 ,  0.40969753, ...,  1.59728728,\n",
       "        -0.76362179,  1.80029653]])"
      ]
     },
     "execution_count": 18,
     "metadata": {},
     "output_type": "execute_result"
    }
   ],
   "source": [
    "#Printando o x e o y de treino\n",
    "y_train\n",
    "X_train"
   ]
  },
  {
   "cell_type": "code",
   "execution_count": 19,
   "metadata": {},
   "outputs": [
    {
     "name": "stdout",
     "output_type": "stream",
     "text": [
      "Epoch 1/150\n",
      "308/308 [==============================] - 1s 1ms/step - loss: 0.3945 - accuracy: 0.8449\n",
      "Epoch 2/150\n",
      "308/308 [==============================] - 0s 1ms/step - loss: 0.3348 - accuracy: 0.8734\n",
      "Epoch 3/150\n",
      "308/308 [==============================] - 0s 1ms/step - loss: 0.3101 - accuracy: 0.8808\n",
      "Epoch 4/150\n",
      "308/308 [==============================] - 0s 1ms/step - loss: 0.2944 - accuracy: 0.8855\n",
      "Epoch 5/150\n",
      "308/308 [==============================] - 0s 1ms/step - loss: 0.2829 - accuracy: 0.8897\n",
      "Epoch 6/150\n",
      "308/308 [==============================] - 0s 1ms/step - loss: 0.2751 - accuracy: 0.8925\n",
      "Epoch 7/150\n",
      "308/308 [==============================] - 0s 1ms/step - loss: 0.2700 - accuracy: 0.8947\n",
      "Epoch 8/150\n",
      "308/308 [==============================] - 0s 1ms/step - loss: 0.2664 - accuracy: 0.8966\n",
      "Epoch 9/150\n",
      "308/308 [==============================] - 0s 1ms/step - loss: 0.2640 - accuracy: 0.8969\n",
      "Epoch 10/150\n",
      "308/308 [==============================] - 0s 1ms/step - loss: 0.2623 - accuracy: 0.8973\n",
      "Epoch 11/150\n",
      "308/308 [==============================] - 0s 1ms/step - loss: 0.2604 - accuracy: 0.8972\n",
      "Epoch 12/150\n",
      "308/308 [==============================] - 0s 1ms/step - loss: 0.2592 - accuracy: 0.8978\n",
      "Epoch 13/150\n",
      "308/308 [==============================] - 0s 1ms/step - loss: 0.2581 - accuracy: 0.8970\n",
      "Epoch 14/150\n",
      "308/308 [==============================] - 0s 1ms/step - loss: 0.2569 - accuracy: 0.8976\n",
      "Epoch 15/150\n",
      "308/308 [==============================] - 0s 1ms/step - loss: 0.2561 - accuracy: 0.8968\n",
      "Epoch 16/150\n",
      "308/308 [==============================] - 0s 1ms/step - loss: 0.2552 - accuracy: 0.8972\n",
      "Epoch 17/150\n",
      "308/308 [==============================] - 0s 1ms/step - loss: 0.2547 - accuracy: 0.8980\n",
      "Epoch 18/150\n",
      "308/308 [==============================] - 0s 1ms/step - loss: 0.2539 - accuracy: 0.8985\n",
      "Epoch 19/150\n",
      "308/308 [==============================] - 0s 1ms/step - loss: 0.2533 - accuracy: 0.8985\n",
      "Epoch 20/150\n",
      "308/308 [==============================] - 0s 1ms/step - loss: 0.2529 - accuracy: 0.8972\n",
      "Epoch 21/150\n",
      "308/308 [==============================] - 0s 1ms/step - loss: 0.2526 - accuracy: 0.8982\n",
      "Epoch 22/150\n",
      "308/308 [==============================] - 0s 1ms/step - loss: 0.2516 - accuracy: 0.8968\n",
      "Epoch 23/150\n",
      "308/308 [==============================] - 0s 1ms/step - loss: 0.2514 - accuracy: 0.8976\n",
      "Epoch 24/150\n",
      "308/308 [==============================] - 0s 1ms/step - loss: 0.2506 - accuracy: 0.8987\n",
      "Epoch 25/150\n",
      "308/308 [==============================] - 0s 1ms/step - loss: 0.2502 - accuracy: 0.8977\n",
      "Epoch 26/150\n",
      "308/308 [==============================] - 0s 991us/step - loss: 0.2492 - accuracy: 0.8998\n",
      "Epoch 27/150\n",
      "308/308 [==============================] - 0s 1ms/step - loss: 0.2495 - accuracy: 0.8992\n",
      "Epoch 28/150\n",
      "308/308 [==============================] - 0s 1ms/step - loss: 0.2487 - accuracy: 0.8971\n",
      "Epoch 29/150\n",
      "308/308 [==============================] - 0s 1ms/step - loss: 0.2485 - accuracy: 0.8990\n",
      "Epoch 30/150\n",
      "308/308 [==============================] - 0s 1ms/step - loss: 0.2479 - accuracy: 0.8976\n",
      "Epoch 31/150\n",
      "308/308 [==============================] - 0s 1ms/step - loss: 0.2473 - accuracy: 0.8988\n",
      "Epoch 32/150\n",
      "308/308 [==============================] - 0s 1ms/step - loss: 0.2473 - accuracy: 0.8970\n",
      "Epoch 33/150\n",
      "308/308 [==============================] - 0s 1ms/step - loss: 0.2466 - accuracy: 0.8987\n",
      "Epoch 34/150\n",
      "308/308 [==============================] - 0s 1ms/step - loss: 0.2464 - accuracy: 0.8986\n",
      "Epoch 35/150\n",
      "308/308 [==============================] - 0s 1ms/step - loss: 0.2463 - accuracy: 0.8982\n",
      "Epoch 36/150\n",
      "308/308 [==============================] - 0s 1ms/step - loss: 0.2458 - accuracy: 0.8992\n",
      "Epoch 37/150\n",
      "308/308 [==============================] - 0s 1ms/step - loss: 0.2447 - accuracy: 0.8995\n",
      "Epoch 38/150\n",
      "308/308 [==============================] - 0s 1ms/step - loss: 0.2449 - accuracy: 0.8988\n",
      "Epoch 39/150\n",
      "308/308 [==============================] - 0s 1ms/step - loss: 0.2444 - accuracy: 0.8988\n",
      "Epoch 40/150\n",
      "308/308 [==============================] - 0s 1ms/step - loss: 0.2444 - accuracy: 0.8996\n",
      "Epoch 41/150\n",
      "308/308 [==============================] - 0s 1ms/step - loss: 0.2440 - accuracy: 0.8995\n",
      "Epoch 42/150\n",
      "308/308 [==============================] - 0s 1ms/step - loss: 0.2433 - accuracy: 0.8997\n",
      "Epoch 43/150\n",
      "308/308 [==============================] - 0s 1ms/step - loss: 0.2434 - accuracy: 0.9003\n",
      "Epoch 44/150\n",
      "308/308 [==============================] - 0s 1ms/step - loss: 0.2429 - accuracy: 0.9009\n",
      "Epoch 45/150\n",
      "308/308 [==============================] - 0s 1ms/step - loss: 0.2427 - accuracy: 0.8990\n",
      "Epoch 46/150\n",
      "308/308 [==============================] - 0s 1ms/step - loss: 0.2427 - accuracy: 0.8991\n",
      "Epoch 47/150\n",
      "308/308 [==============================] - 0s 1ms/step - loss: 0.2421 - accuracy: 0.8991\n",
      "Epoch 48/150\n",
      "308/308 [==============================] - 0s 1ms/step - loss: 0.2418 - accuracy: 0.9004\n",
      "Epoch 49/150\n",
      "308/308 [==============================] - 0s 1ms/step - loss: 0.2415 - accuracy: 0.9005\n",
      "Epoch 50/150\n",
      "308/308 [==============================] - 0s 1ms/step - loss: 0.2412 - accuracy: 0.8995\n",
      "Epoch 51/150\n",
      "308/308 [==============================] - 0s 1ms/step - loss: 0.2408 - accuracy: 0.9000\n",
      "Epoch 52/150\n",
      "308/308 [==============================] - 0s 1ms/step - loss: 0.2406 - accuracy: 0.9005\n",
      "Epoch 53/150\n",
      "308/308 [==============================] - 0s 1ms/step - loss: 0.2409 - accuracy: 0.8995\n",
      "Epoch 54/150\n",
      "308/308 [==============================] - 0s 1ms/step - loss: 0.2401 - accuracy: 0.9001\n",
      "Epoch 55/150\n",
      "308/308 [==============================] - 0s 1ms/step - loss: 0.2401 - accuracy: 0.9003\n",
      "Epoch 56/150\n",
      "308/308 [==============================] - 0s 1ms/step - loss: 0.2397 - accuracy: 0.8999\n",
      "Epoch 57/150\n",
      "308/308 [==============================] - 0s 1ms/step - loss: 0.2389 - accuracy: 0.9004\n",
      "Epoch 58/150\n",
      "308/308 [==============================] - 0s 1ms/step - loss: 0.2391 - accuracy: 0.8995\n",
      "Epoch 59/150\n",
      "308/308 [==============================] - 0s 1ms/step - loss: 0.2385 - accuracy: 0.9007\n",
      "Epoch 60/150\n",
      "308/308 [==============================] - 0s 1ms/step - loss: 0.2380 - accuracy: 0.9003\n",
      "Epoch 61/150\n",
      "308/308 [==============================] - 0s 1ms/step - loss: 0.2379 - accuracy: 0.8997\n",
      "Epoch 62/150\n",
      "308/308 [==============================] - 0s 1ms/step - loss: 0.2375 - accuracy: 0.9014\n",
      "Epoch 63/150\n",
      "308/308 [==============================] - 0s 1ms/step - loss: 0.2374 - accuracy: 0.9021\n",
      "Epoch 64/150\n",
      "308/308 [==============================] - 0s 1ms/step - loss: 0.2372 - accuracy: 0.9005\n",
      "Epoch 65/150\n",
      "308/308 [==============================] - 0s 1ms/step - loss: 0.2371 - accuracy: 0.9022\n",
      "Epoch 66/150\n",
      "308/308 [==============================] - 0s 1ms/step - loss: 0.2365 - accuracy: 0.9007\n",
      "Epoch 67/150\n",
      "308/308 [==============================] - 0s 1ms/step - loss: 0.2365 - accuracy: 0.9005\n",
      "Epoch 68/150\n",
      "308/308 [==============================] - 0s 1ms/step - loss: 0.2366 - accuracy: 0.9012\n",
      "Epoch 69/150\n",
      "308/308 [==============================] - 0s 1ms/step - loss: 0.2360 - accuracy: 0.9007\n",
      "Epoch 70/150\n",
      "308/308 [==============================] - 0s 1ms/step - loss: 0.2357 - accuracy: 0.9006\n",
      "Epoch 71/150\n",
      "308/308 [==============================] - 0s 1ms/step - loss: 0.2349 - accuracy: 0.9027\n",
      "Epoch 72/150\n",
      "308/308 [==============================] - 0s 2ms/step - loss: 0.2349 - accuracy: 0.9002\n",
      "Epoch 73/150\n",
      "308/308 [==============================] - 0s 1ms/step - loss: 0.2354 - accuracy: 0.9015\n",
      "Epoch 74/150\n",
      "308/308 [==============================] - 0s 1ms/step - loss: 0.2347 - accuracy: 0.9012\n",
      "Epoch 75/150\n",
      "308/308 [==============================] - 0s 1ms/step - loss: 0.2343 - accuracy: 0.9016\n",
      "Epoch 76/150\n",
      "308/308 [==============================] - 0s 1ms/step - loss: 0.2339 - accuracy: 0.9024\n",
      "Epoch 77/150\n",
      "308/308 [==============================] - 0s 1ms/step - loss: 0.2344 - accuracy: 0.9026\n",
      "Epoch 78/150\n",
      "308/308 [==============================] - 0s 1ms/step - loss: 0.2344 - accuracy: 0.9012\n",
      "Epoch 79/150\n",
      "308/308 [==============================] - 0s 1ms/step - loss: 0.2337 - accuracy: 0.9013\n",
      "Epoch 80/150\n",
      "308/308 [==============================] - 0s 1ms/step - loss: 0.2333 - accuracy: 0.9008\n",
      "Epoch 81/150\n",
      "308/308 [==============================] - 0s 1ms/step - loss: 0.2339 - accuracy: 0.9016\n",
      "Epoch 82/150\n",
      "308/308 [==============================] - 0s 1ms/step - loss: 0.2331 - accuracy: 0.9022\n",
      "Epoch 83/150\n",
      "308/308 [==============================] - 0s 1ms/step - loss: 0.2327 - accuracy: 0.9012\n",
      "Epoch 84/150\n",
      "308/308 [==============================] - 0s 1ms/step - loss: 0.2326 - accuracy: 0.9014\n",
      "Epoch 85/150\n",
      "308/308 [==============================] - 0s 1ms/step - loss: 0.2328 - accuracy: 0.9021\n",
      "Epoch 86/150\n",
      "308/308 [==============================] - 0s 1ms/step - loss: 0.2326 - accuracy: 0.9019\n",
      "Epoch 87/150\n",
      "308/308 [==============================] - 0s 1ms/step - loss: 0.2325 - accuracy: 0.9009\n",
      "Epoch 88/150\n",
      "308/308 [==============================] - 0s 1ms/step - loss: 0.2323 - accuracy: 0.9012\n",
      "Epoch 89/150\n",
      "308/308 [==============================] - 0s 1ms/step - loss: 0.2320 - accuracy: 0.9013\n",
      "Epoch 90/150\n",
      "308/308 [==============================] - 0s 1ms/step - loss: 0.2317 - accuracy: 0.9019\n",
      "Epoch 91/150\n",
      "308/308 [==============================] - 0s 1ms/step - loss: 0.2315 - accuracy: 0.9017\n",
      "Epoch 92/150\n",
      "308/308 [==============================] - 0s 1ms/step - loss: 0.2313 - accuracy: 0.9013\n",
      "Epoch 93/150\n",
      "308/308 [==============================] - 0s 1ms/step - loss: 0.2316 - accuracy: 0.9014\n",
      "Epoch 94/150\n",
      "308/308 [==============================] - 0s 1ms/step - loss: 0.2315 - accuracy: 0.9016\n",
      "Epoch 95/150\n",
      "308/308 [==============================] - 0s 1ms/step - loss: 0.2312 - accuracy: 0.9024\n",
      "Epoch 96/150\n",
      "308/308 [==============================] - 0s 1ms/step - loss: 0.2310 - accuracy: 0.9018\n",
      "Epoch 97/150\n",
      "308/308 [==============================] - 0s 1ms/step - loss: 0.2307 - accuracy: 0.9017\n",
      "Epoch 98/150\n",
      "308/308 [==============================] - 0s 1ms/step - loss: 0.2308 - accuracy: 0.9019\n",
      "Epoch 99/150\n",
      "308/308 [==============================] - 0s 1ms/step - loss: 0.2309 - accuracy: 0.9022\n",
      "Epoch 100/150\n",
      "308/308 [==============================] - 0s 1ms/step - loss: 0.2308 - accuracy: 0.9005\n",
      "Epoch 101/150\n",
      "308/308 [==============================] - 0s 1ms/step - loss: 0.2302 - accuracy: 0.9027\n",
      "Epoch 102/150\n",
      "308/308 [==============================] - 0s 1ms/step - loss: 0.2305 - accuracy: 0.9015\n",
      "Epoch 103/150\n",
      "308/308 [==============================] - 0s 1ms/step - loss: 0.2301 - accuracy: 0.9021\n",
      "Epoch 104/150\n",
      "308/308 [==============================] - 0s 1ms/step - loss: 0.2297 - accuracy: 0.9028\n",
      "Epoch 105/150\n",
      "308/308 [==============================] - 0s 1ms/step - loss: 0.2296 - accuracy: 0.9028\n",
      "Epoch 106/150\n",
      "308/308 [==============================] - 0s 1ms/step - loss: 0.2292 - accuracy: 0.9014\n",
      "Epoch 107/150\n",
      "308/308 [==============================] - 0s 1ms/step - loss: 0.2290 - accuracy: 0.9016\n",
      "Epoch 108/150\n",
      "308/308 [==============================] - 0s 1ms/step - loss: 0.2295 - accuracy: 0.9011\n",
      "Epoch 109/150\n",
      "308/308 [==============================] - 0s 1ms/step - loss: 0.2293 - accuracy: 0.9010\n",
      "Epoch 110/150\n",
      "308/308 [==============================] - 0s 1ms/step - loss: 0.2290 - accuracy: 0.9028\n",
      "Epoch 111/150\n",
      "308/308 [==============================] - 0s 1ms/step - loss: 0.2292 - accuracy: 0.9028\n",
      "Epoch 112/150\n",
      "308/308 [==============================] - 0s 1ms/step - loss: 0.2291 - accuracy: 0.9017\n",
      "Epoch 113/150\n",
      "308/308 [==============================] - 0s 2ms/step - loss: 0.2286 - accuracy: 0.9021\n",
      "Epoch 114/150\n",
      "308/308 [==============================] - 0s 1ms/step - loss: 0.2281 - accuracy: 0.9022\n",
      "Epoch 115/150\n",
      "308/308 [==============================] - 0s 1ms/step - loss: 0.2289 - accuracy: 0.9030\n",
      "Epoch 116/150\n",
      "308/308 [==============================] - 0s 1ms/step - loss: 0.2285 - accuracy: 0.9016\n",
      "Epoch 117/150\n",
      "308/308 [==============================] - 0s 1ms/step - loss: 0.2283 - accuracy: 0.9018\n",
      "Epoch 118/150\n",
      "308/308 [==============================] - 0s 1ms/step - loss: 0.2284 - accuracy: 0.9026\n",
      "Epoch 119/150\n",
      "308/308 [==============================] - 0s 1ms/step - loss: 0.2280 - accuracy: 0.9017\n",
      "Epoch 120/150\n",
      "308/308 [==============================] - 0s 1ms/step - loss: 0.2282 - accuracy: 0.9024\n",
      "Epoch 121/150\n",
      "308/308 [==============================] - 0s 1ms/step - loss: 0.2282 - accuracy: 0.9018\n",
      "Epoch 122/150\n",
      "308/308 [==============================] - 0s 1ms/step - loss: 0.2279 - accuracy: 0.9023\n",
      "Epoch 123/150\n",
      "308/308 [==============================] - 0s 1ms/step - loss: 0.2273 - accuracy: 0.9023\n",
      "Epoch 124/150\n",
      "308/308 [==============================] - 0s 1ms/step - loss: 0.2270 - accuracy: 0.9033\n",
      "Epoch 125/150\n",
      "308/308 [==============================] - 0s 1ms/step - loss: 0.2273 - accuracy: 0.9009\n",
      "Epoch 126/150\n",
      "308/308 [==============================] - 0s 1ms/step - loss: 0.2274 - accuracy: 0.9021\n",
      "Epoch 127/150\n",
      "308/308 [==============================] - 0s 1ms/step - loss: 0.2277 - accuracy: 0.9024\n",
      "Epoch 128/150\n",
      "308/308 [==============================] - 0s 1ms/step - loss: 0.2276 - accuracy: 0.9012\n",
      "Epoch 129/150\n",
      "308/308 [==============================] - 0s 1ms/step - loss: 0.2276 - accuracy: 0.9028\n",
      "Epoch 130/150\n",
      "308/308 [==============================] - 0s 1ms/step - loss: 0.2274 - accuracy: 0.9033\n",
      "Epoch 131/150\n",
      "308/308 [==============================] - 0s 1ms/step - loss: 0.2269 - accuracy: 0.9027\n",
      "Epoch 132/150\n",
      "308/308 [==============================] - 0s 1ms/step - loss: 0.2266 - accuracy: 0.9036\n",
      "Epoch 133/150\n",
      "308/308 [==============================] - 0s 1ms/step - loss: 0.2269 - accuracy: 0.9033\n",
      "Epoch 134/150\n",
      "308/308 [==============================] - 0s 1ms/step - loss: 0.2269 - accuracy: 0.9026\n",
      "Epoch 135/150\n",
      "308/308 [==============================] - 0s 1ms/step - loss: 0.2265 - accuracy: 0.9031\n",
      "Epoch 136/150\n",
      "308/308 [==============================] - 0s 1ms/step - loss: 0.2264 - accuracy: 0.9035\n",
      "Epoch 137/150\n",
      "308/308 [==============================] - 0s 1ms/step - loss: 0.2267 - accuracy: 0.9021\n",
      "Epoch 138/150\n",
      "308/308 [==============================] - 0s 1ms/step - loss: 0.2265 - accuracy: 0.9019\n",
      "Epoch 139/150\n",
      "308/308 [==============================] - 0s 1ms/step - loss: 0.2267 - accuracy: 0.9021\n",
      "Epoch 140/150\n",
      "308/308 [==============================] - 0s 1ms/step - loss: 0.2259 - accuracy: 0.9025\n",
      "Epoch 141/150\n",
      "308/308 [==============================] - 0s 1ms/step - loss: 0.2258 - accuracy: 0.9030\n",
      "Epoch 142/150\n",
      "308/308 [==============================] - 0s 1ms/step - loss: 0.2256 - accuracy: 0.9028\n",
      "Epoch 143/150\n",
      "308/308 [==============================] - 0s 1ms/step - loss: 0.2267 - accuracy: 0.9026\n",
      "Epoch 144/150\n",
      "308/308 [==============================] - 0s 1ms/step - loss: 0.2258 - accuracy: 0.9035\n",
      "Epoch 145/150\n",
      "308/308 [==============================] - 0s 1ms/step - loss: 0.2258 - accuracy: 0.9026\n",
      "Epoch 146/150\n",
      "308/308 [==============================] - 0s 1ms/step - loss: 0.2254 - accuracy: 0.9027\n",
      "Epoch 147/150\n",
      "308/308 [==============================] - 0s 1ms/step - loss: 0.2252 - accuracy: 0.9014\n",
      "Epoch 148/150\n",
      "308/308 [==============================] - 0s 1ms/step - loss: 0.2255 - accuracy: 0.9024\n",
      "Epoch 149/150\n",
      "308/308 [==============================] - 0s 1ms/step - loss: 0.2252 - accuracy: 0.9014\n",
      "Epoch 150/150\n",
      "308/308 [==============================] - 0s 1ms/step - loss: 0.2256 - accuracy: 0.9016\n"
     ]
    },
    {
     "data": {
      "text/plain": [
       "<tensorflow.python.keras.callbacks.History at 0x275117cf880>"
      ]
     },
     "execution_count": 19,
     "metadata": {},
     "output_type": "execute_result"
    }
   ],
   "source": [
    "ann.fit(X_train, y_train, batch_size = 32, epochs = 150)"
   ]
  },
  {
   "cell_type": "code",
   "execution_count": 20,
   "metadata": {},
   "outputs": [
    {
     "data": {
      "text/plain": [
       "9852"
      ]
     },
     "execution_count": 20,
     "metadata": {},
     "output_type": "execute_result"
    }
   ],
   "source": [
    "y_train.size"
   ]
  },
  {
   "cell_type": "code",
   "execution_count": 21,
   "metadata": {},
   "outputs": [
    {
     "data": {
      "text/plain": [
       "187188"
      ]
     },
     "execution_count": 21,
     "metadata": {},
     "output_type": "execute_result"
    }
   ],
   "source": [
    "X_train.size"
   ]
  },
  {
   "cell_type": "code",
   "execution_count": 22,
   "metadata": {},
   "outputs": [
    {
     "data": {
      "text/plain": [
       "array([[0.03476456],\n",
       "       [0.00033817],\n",
       "       [0.05433428],\n",
       "       ...,\n",
       "       [0.02239114],\n",
       "       [0.00245211],\n",
       "       [0.0698818 ]], dtype=float32)"
      ]
     },
     "execution_count": 22,
     "metadata": {},
     "output_type": "execute_result"
    }
   ],
   "source": [
    "#probabilidade da pessoa comprar no site ou não\n",
    "#probabilidade de gerar receita ou não\n",
    "y_pred = ann.predict(X_test)\n",
    "y_pred"
   ]
  },
  {
   "cell_type": "code",
   "execution_count": 23,
   "metadata": {},
   "outputs": [
    {
     "data": {
      "text/plain": [
       "array([[False],\n",
       "       [False],\n",
       "       [False],\n",
       "       ...,\n",
       "       [False],\n",
       "       [False],\n",
       "       [False]])"
      ]
     },
     "execution_count": 23,
     "metadata": {},
     "output_type": "execute_result"
    }
   ],
   "source": [
    "#0.7 é o threshold\n",
    "y_pred = (y_pred > 0.50)\n",
    "y_pred"
   ]
  },
  {
   "cell_type": "code",
   "execution_count": 24,
   "metadata": {},
   "outputs": [
    {
     "name": "stdout",
     "output_type": "stream",
     "text": [
      "[[1998   90]\n",
      " [ 169  207]]\n"
     ]
    }
   ],
   "source": [
    "#acertou 1985 e 232\n",
    "#errou 103 e 144\n",
    "from sklearn.metrics import confusion_matrix\n",
    "cm = confusion_matrix(y_test, y_pred)\n",
    "print(cm)"
   ]
  },
  {
   "cell_type": "code",
   "execution_count": 25,
   "metadata": {},
   "outputs": [
    {
     "name": "stderr",
     "output_type": "stream",
     "text": [
      "Matplotlib is building the font cache; this may take a moment.\n"
     ]
    },
    {
     "data": {
      "text/plain": [
       "<AxesSubplot:>"
      ]
     },
     "execution_count": 25,
     "metadata": {},
     "output_type": "execute_result"
    },
    {
     "data": {
      "image/png": "[encoded data removed]",
      "text/plain": [
       "<Figure size 432x288 with 2 Axes>"
      ]
     },
     "metadata": {
      "needs_background": "light"
     },
     "output_type": "display_data"
    }
   ],
   "source": [
    "import seaborn as sns\n",
    "group_names = ['True Neg','False Pos','False Neg','True Pos']\n",
    "group_counts = [\"{0:0.0f}\".format(value) for value in\n",
    "                cm.flatten()]\n",
    "group_percentages = [\"{0:.2%}\".format(value) for value in\n",
    "                     cm.flatten()/np.sum(cm)]\n",
    "labels = [f\"{v1}\\n{v2}\\n{v3}\" for v1, v2, v3 in\n",
    "          zip(group_names,group_counts,group_percentages)]\n",
    "labels = np.asarray(labels).reshape(2,2)\n",
    "sns.heatmap(cm, annot=labels, fmt='', cmap='Blues')"
   ]
  }
 ],
 "metadata": {
  "colab": {
   "collapsed_sections": [],
   "name": "deep_learning_project.ipynb",
   "provenance": [],
   "toc_visible": true
  },
  "kernelspec": {
   "display_name": "Python 3",
   "language": "python",
   "name": "python3"
  },
  "language_info": {
   "codemirror_mode": {
    "name": "ipython",
    "version": 3
   },
   "file_extension": ".py",
   "mimetype": "text/x-python",
   "name": "python",
   "nbconvert_exporter": "python",
   "pygments_lexer": "ipython3",
   "version": "3.8.5"
  }
 },
 "nbformat": 4,
 "nbformat_minor": 4
}
